{
 "cells": [
  {
   "cell_type": "code",
   "execution_count": 2,
   "metadata": {},
   "outputs": [],
   "source": [
    "import dash\n",
    "from dash import dcc, html, callback, Output, Input\n",
    "import plotly.express as px\n",
    "import dash_bootstrap_components as dbc\n",
    "import pandas as pd\n",
    "import numpy as np\n",
    "import polars as pl\n",
    "from dateutil.relativedelta import relativedelta\n",
    "import requests\n",
    "#from jupyter_dash import JupyterDash\n",
    "from dash import Dash, dcc, html, Input, Output, State, callback\n",
    "from plotly.subplots import make_subplots\n",
    "import plotly.graph_objects as go\n",
    "import plotly.offline as plot\n",
    "from datetime import datetime,timedelta\n",
    "import os\n",
    "import plotly.io as pio\n",
    "pio.templates.default = \"seaborn\""
   ]
  },
  {
   "cell_type": "code",
   "execution_count": 5,
   "metadata": {},
   "outputs": [],
   "source": [
    "\n",
    "def load_data():\n",
    "    username = 'syduc993'\n",
    "    repository = 'Streanlit-Project'\n",
    "    folder = 'Data/Tonghop'\n",
    "\n",
    "    url = f'https://api.github.com/repos/{username}/{repository}/contents/{folder}'\n",
    "\n",
    "    response = requests.get(url)\n",
    "    contents = response.json()\n",
    "    df = pd.DataFrame()\n",
    "    # Loop through the contents of the folder\n",
    "    for item in contents:\n",
    "        # Check if the item is a file\n",
    "        if item['type'] == 'file':\n",
    "            # Get the name and download URL of the file\n",
    "            filename = item['name']\n",
    "            file_url = item['download_url']\n",
    "            # Do something with the file URL (e.g. download the file)\n",
    "            df1 = pd.read_feather(file_url)\n",
    "            df = pd.concat([df, df1], ignore_index=True, sort=False)\n",
    "    return file_url"
   ]
  },
  {
   "cell_type": "code",
   "execution_count": 6,
   "metadata": {},
   "outputs": [],
   "source": [
    "file_url = load_data()"
   ]
  },
  {
   "cell_type": "code",
   "execution_count": 8,
   "metadata": {},
   "outputs": [
    {
     "data": {
      "text/plain": [
       "'https://raw.githubusercontent.com/syduc993/Streanlit-Project/main/Data/Tonghop/Data_0.feather'"
      ]
     },
     "execution_count": 8,
     "metadata": {},
     "output_type": "execute_result"
    }
   ],
   "source": [
    "file_url"
   ]
  },
  {
   "cell_type": "code",
   "execution_count": null,
   "metadata": {},
   "outputs": [],
   "source": []
  },
  {
   "cell_type": "code",
   "execution_count": 9,
   "metadata": {},
   "outputs": [
    {
     "data": {
      "text/html": [
       "<div>\n",
       "<style scoped>\n",
       "    .dataframe tbody tr th:only-of-type {\n",
       "        vertical-align: middle;\n",
       "    }\n",
       "\n",
       "    .dataframe tbody tr th {\n",
       "        vertical-align: top;\n",
       "    }\n",
       "\n",
       "    .dataframe thead th {\n",
       "        text-align: right;\n",
       "    }\n",
       "</style>\n",
       "<table border=\"1\" class=\"dataframe\">\n",
       "  <thead>\n",
       "    <tr style=\"text-align: right;\">\n",
       "      <th></th>\n",
       "      <th>index</th>\n",
       "      <th>Date</th>\n",
       "      <th>Mã sản phẩm</th>\n",
       "      <th>Mã siêu thị</th>\n",
       "      <th>Số lượng hủy NCC</th>\n",
       "      <th>Số lượng nhập</th>\n",
       "      <th>Số lượng thực hủy</th>\n",
       "      <th>Doanh thu</th>\n",
       "      <th>Số lượng bán</th>\n",
       "      <th>RSM</th>\n",
       "      <th>AM</th>\n",
       "      <th>Tồn kho siêu thị</th>\n",
       "      <th>Tên sản phẩm</th>\n",
       "      <th>Nhóm hàng</th>\n",
       "    </tr>\n",
       "  </thead>\n",
       "  <tbody>\n",
       "    <tr>\n",
       "      <th>0</th>\n",
       "      <td>0</td>\n",
       "      <td>2023-04-01</td>\n",
       "      <td>1232844000391</td>\n",
       "      <td>10038</td>\n",
       "      <td>0.0</td>\n",
       "      <td>0.0</td>\n",
       "      <td>0.000</td>\n",
       "      <td>7786.0</td>\n",
       "      <td>0.916</td>\n",
       "      <td>3567 - Nguyễn Trung Sỹ</td>\n",
       "      <td>22354 - Trần Minh Nhật</td>\n",
       "      <td>7.200</td>\n",
       "      <td>THƠM MẬT NGUYÊN VỎ</td>\n",
       "      <td>Trái cây nội CL</td>\n",
       "    </tr>\n",
       "    <tr>\n",
       "      <th>1</th>\n",
       "      <td>1</td>\n",
       "      <td>2023-04-01</td>\n",
       "      <td>1232854000024</td>\n",
       "      <td>10038</td>\n",
       "      <td>0.0</td>\n",
       "      <td>0.0</td>\n",
       "      <td>-0.021</td>\n",
       "      <td>22220.0</td>\n",
       "      <td>0.404</td>\n",
       "      <td>3567 - Nguyễn Trung Sỹ</td>\n",
       "      <td>22354 - Trần Minh Nhật</td>\n",
       "      <td>7.979</td>\n",
       "      <td>LÊ GIÒN - NGỌT (SINGO)</td>\n",
       "      <td>Trái cây ngoại CL</td>\n",
       "    </tr>\n",
       "  </tbody>\n",
       "</table>\n",
       "</div>"
      ],
      "text/plain": [
       "   index        Date    Mã sản phẩm Mã siêu thị  Số lượng hủy NCC   \n",
       "0      0  2023-04-01  1232844000391       10038               0.0  \\\n",
       "1      1  2023-04-01  1232854000024       10038               0.0   \n",
       "\n",
       "   Số lượng nhập  Số lượng thực hủy  Doanh thu  Số lượng bán   \n",
       "0            0.0              0.000     7786.0         0.916  \\\n",
       "1            0.0             -0.021    22220.0         0.404   \n",
       "\n",
       "                      RSM                      AM  Tồn kho siêu thị   \n",
       "0  3567 - Nguyễn Trung Sỹ  22354 - Trần Minh Nhật             7.200  \\\n",
       "1  3567 - Nguyễn Trung Sỹ  22354 - Trần Minh Nhật             7.979   \n",
       "\n",
       "             Tên sản phẩm          Nhóm hàng  \n",
       "0      THƠM MẬT NGUYÊN VỎ    Trái cây nội CL  \n",
       "1  LÊ GIÒN - NGỌT (SINGO)  Trái cây ngoại CL  "
      ]
     },
     "execution_count": 9,
     "metadata": {},
     "output_type": "execute_result"
    }
   ],
   "source": [
    "df = pd.read_feather('https://raw.githubusercontent.com/syduc993/Streanlit-Project/main/Data/Tonghop/Data_0.feather')\n",
    "df.head(2)"
   ]
  },
  {
   "cell_type": "code",
   "execution_count": null,
   "metadata": {},
   "outputs": [],
   "source": []
  }
 ],
 "metadata": {
  "kernelspec": {
   "display_name": "Python 3",
   "language": "python",
   "name": "python3"
  },
  "language_info": {
   "codemirror_mode": {
    "name": "ipython",
    "version": 3
   },
   "file_extension": ".py",
   "mimetype": "text/x-python",
   "name": "python",
   "nbconvert_exporter": "python",
   "pygments_lexer": "ipython3",
   "version": "3.11.3"
  },
  "orig_nbformat": 4
 },
 "nbformat": 4,
 "nbformat_minor": 2
}
