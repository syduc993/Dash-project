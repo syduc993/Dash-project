{
 "cells": [
  {
   "cell_type": "code",
   "execution_count": 1,
   "metadata": {},
   "outputs": [],
   "source": [
    "import dash\n",
    "from dash import dcc, html, callback, Output, Input\n",
    "import plotly.express as px\n",
    "import dash_bootstrap_components as dbc\n",
    "import pandas as pd\n",
    "import numpy as np\n",
    "import polars as pl\n",
    "from dateutil.relativedelta import relativedelta\n",
    "import requests\n",
    "#from jupyter_dash import JupyterDash\n",
    "from dash import Dash, dcc, html, Input, Output, State, callback\n",
    "from plotly.subplots import make_subplots\n",
    "import plotly.graph_objects as go\n",
    "import plotly.offline as plot\n",
    "from datetime import datetime,timedelta\n",
    "import os\n",
    "import plotly.io as pio\n",
    "pio.templates.default = \"seaborn\""
   ]
  },
  {
   "cell_type": "code",
   "execution_count": 2,
   "metadata": {},
   "outputs": [],
   "source": [
    "\n",
    "def load_data():\n",
    "    username = 'syduc993'\n",
    "    repository = 'Streanlit-Project'\n",
    "    folder = 'Data/Tonghop'\n",
    "\n",
    "    url = f'https://api.github.com/repos/{username}/{repository}/contents/{folder}'\n",
    "\n",
    "    response = requests.get(url)\n",
    "    contents = response.json()\n",
    "    df = pd.DataFrame()\n",
    "    # Loop through the contents of the folder\n",
    "    for item in contents:\n",
    "        # Check if the item is a file\n",
    "        if item['type'] == 'file':\n",
    "            # Get the name and download URL of the file\n",
    "            filename = item['name']\n",
    "            file_url = item['download_url']\n",
    "            # Do something with the file URL (e.g. download the file)\n",
    "            df1 = pd.read_feather(file_url)\n",
    "            df = pd.concat([df, df1], ignore_index=True, sort=False)\n",
    "    return file_url"
   ]
  },
  {
   "cell_type": "code",
   "execution_count": 3,
   "metadata": {},
   "outputs": [
    {
     "data": {
      "text/html": [
       "<div><style>\n",
       ".dataframe > thead > tr > th,\n",
       ".dataframe > tbody > tr > td {\n",
       "  text-align: right;\n",
       "}\n",
       "</style>\n",
       "<small>shape: (2, 14)</small><table border=\"1\" class=\"dataframe\"><thead><tr><th>index</th><th>Date</th><th>Mã sản phẩm</th><th>Mã siêu thị</th><th>Số lượng hủy NCC</th><th>Số lượng nhập</th><th>Số lượng thực hủy</th><th>Doanh thu</th><th>Số lượng bán</th><th>RSM</th><th>AM</th><th>Tồn kho siêu thị</th><th>Tên sản phẩm</th><th>Nhóm hàng</th></tr><tr><td>i64</td><td>date</td><td>str</td><td>str</td><td>f64</td><td>f64</td><td>f64</td><td>f64</td><td>f64</td><td>str</td><td>str</td><td>f64</td><td>str</td><td>str</td></tr></thead><tbody><tr><td>0</td><td>2023-04-01</td><td>&quot;1232844000391&quot;</td><td>&quot;10038&quot;</td><td>0.0</td><td>0.0</td><td>0.0</td><td>7786.0</td><td>0.916</td><td>&quot;3567 - Nguyễn …</td><td>&quot;22354 - Trần M…</td><td>7.2</td><td>&quot;THƠM MẬT NGUYÊ…</td><td>&quot;Trái cây nội C…</td></tr><tr><td>1</td><td>2023-04-01</td><td>&quot;1232854000024&quot;</td><td>&quot;10038&quot;</td><td>0.0</td><td>0.0</td><td>-0.021</td><td>22220.0</td><td>0.404</td><td>&quot;3567 - Nguyễn …</td><td>&quot;22354 - Trần M…</td><td>7.979</td><td>&quot;LÊ GIÒN - NGỌT…</td><td>&quot;Trái cây ngoại…</td></tr></tbody></table></div>"
      ],
      "text/plain": [
       "shape: (2, 14)\n",
       "┌───────┬───────────┬────────────┬────────────┬───┬──────────┬────────────┬────────────┬───────────┐\n",
       "│ index ┆ Date      ┆ Mã sản     ┆ Mã siêu    ┆ … ┆ AM       ┆ Tồn kho    ┆ Tên sản    ┆ Nhóm hàng │\n",
       "│ ---   ┆ ---       ┆ phẩm       ┆ thị        ┆   ┆ ---      ┆ siêu thị   ┆ phẩm       ┆ ---       │\n",
       "│ i64   ┆ date      ┆ ---        ┆ ---        ┆   ┆ str      ┆ ---        ┆ ---        ┆ str       │\n",
       "│       ┆           ┆ str        ┆ str        ┆   ┆          ┆ f64        ┆ str        ┆           │\n",
       "╞═══════╪═══════════╪════════════╪════════════╪═══╪══════════╪════════════╪════════════╪═══════════╡\n",
       "│ 0     ┆ 2023-04-0 ┆ 1232844000 ┆ 10038      ┆ … ┆ 22354 -  ┆ 7.2        ┆ THƠM MẬT   ┆ Trái cây  │\n",
       "│       ┆ 1         ┆ 391        ┆            ┆   ┆ Trần     ┆            ┆ NGUYÊN VỎ  ┆ nội CL    │\n",
       "│       ┆           ┆            ┆            ┆   ┆ Minh     ┆            ┆            ┆           │\n",
       "│       ┆           ┆            ┆            ┆   ┆ Nhật     ┆            ┆            ┆           │\n",
       "│ 1     ┆ 2023-04-0 ┆ 1232854000 ┆ 10038      ┆ … ┆ 22354 -  ┆ 7.979      ┆ LÊ GIÒN -  ┆ Trái cây  │\n",
       "│       ┆ 1         ┆ 024        ┆            ┆   ┆ Trần     ┆            ┆ NGỌT       ┆ ngoại CL  │\n",
       "│       ┆           ┆            ┆            ┆   ┆ Minh     ┆            ┆ (SINGO)    ┆           │\n",
       "│       ┆           ┆            ┆            ┆   ┆ Nhật     ┆            ┆            ┆           │\n",
       "└───────┴───────────┴────────────┴────────────┴───┴──────────┴────────────┴────────────┴───────────┘"
      ]
     },
     "execution_count": 3,
     "metadata": {},
     "output_type": "execute_result"
    }
   ],
   "source": [
    "df = pl.from_pandas(pd.read_feather('https://raw.githubusercontent.com/syduc993/Streanlit-Project/main/Data/Tonghop/Data_0.feather'))\n",
    "df.head(2)"
   ]
  }
 ],
 "metadata": {
  "kernelspec": {
   "display_name": "Python 3",
   "language": "python",
   "name": "python3"
  },
  "language_info": {
   "codemirror_mode": {
    "name": "ipython",
    "version": 3
   },
   "file_extension": ".py",
   "mimetype": "text/x-python",
   "name": "python",
   "nbconvert_exporter": "python",
   "pygments_lexer": "ipython3",
   "version": "3.11.3"
  },
  "orig_nbformat": 4
 },
 "nbformat": 4,
 "nbformat_minor": 2
}
